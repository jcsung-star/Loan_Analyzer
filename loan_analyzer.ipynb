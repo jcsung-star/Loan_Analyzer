{
 "cells": [
  {
   "cell_type": "code",
   "execution_count": 1,
   "id": "fedd37ac-d946-4e1c-8a94-0244312e3ad7",
   "metadata": {},
   "outputs": [],
   "source": [
    "# coding: utf-8\n",
    "import csv\n",
    "from pathlib import Path\n",
    "\n",
    "\"\"\"Part 1: Automate the Calculations.\n",
    "\n",
    "Automate the calculations for the loan portfolio summaries.\n",
    "\n",
    "First, let's start with some calculations on a list of prices for 5 loans.\n",
    "    1. Use the `len` function to calculate the total number of loans in the list.\n",
    "    2. Use the `sum` function to calculate the total of all loans in the list.\n",
    "    3. Using the sum of all loans and the total number of loans, calculate the average loan price.\n",
    "    4. Print all calculations with descriptive messages.\n",
    "\"\"\"\n",
    "loan_costs = [500, 600, 200, 1000, 450]"
   ]
  },
  {
   "cell_type": "code",
   "execution_count": 2,
   "id": "a6bd919c-3f4c-4aab-b159-fd625a331a8a",
   "metadata": {},
   "outputs": [
    {
     "name": "stdout",
     "output_type": "stream",
     "text": [
      "The number of loans from the list is 5.\n"
     ]
    }
   ],
   "source": [
    "# How many loans are in the list?\n",
    "# @TODO: Use the `len` function to calculate the total number of loans in the list.\n",
    "# Print the number of loans from the list\n",
    "\n",
    "num_list = len(loan_costs)\n",
    "print(f\"The number of loans from the list is {num_list}.\")"
   ]
  },
  {
   "cell_type": "code",
   "execution_count": 3,
   "id": "35e1e088-6ab8-4f7c-af78-60dbdf18c96d",
   "metadata": {},
   "outputs": [
    {
     "name": "stdout",
     "output_type": "stream",
     "text": [
      "The number of loans from the list is $2750.\n"
     ]
    }
   ],
   "source": [
    "# What is the total of all loans?\n",
    "# @TODO: Use the `sum` function to calculate the total of all loans in the list.\n",
    "# Print the total value of the loans\n",
    "sum_list = sum(loan_costs)\n",
    "print(f\"The number of loans from the list is ${sum_list}.\")"
   ]
  },
  {
   "cell_type": "code",
   "execution_count": 4,
   "id": "b11ad9c4-c940-4016-b5c7-97e420875241",
   "metadata": {},
   "outputs": [
    {
     "name": "stdout",
     "output_type": "stream",
     "text": [
      "The average loan amount from the list is $550.0.\n"
     ]
    }
   ],
   "source": [
    "# What is the average loan amount from the list?\n",
    "# @TODO: Using the sum of all loans and the total number of loans, calculate the average loan price.\n",
    "# Print the average loan amount\n",
    "avg_loan_amount = sum_list/num_list\n",
    "print(f\"The average loan amount from the list is ${avg_loan_amount}.\")"
   ]
  },
  {
   "cell_type": "code",
   "execution_count": 5,
   "id": "4c22ddc7-6c58-4660-92c4-a91ccffbc8b0",
   "metadata": {},
   "outputs": [],
   "source": [
    "\"\"\"Part 2: Analyze Loan Data.\n",
    "\n",
    "Analyze the loan to determine the investment evaluation.\n",
    "\n",
    "Using more detailed data on one of these loans, follow these steps to calculate a Present Value, or a \"fair price\" for what this loan would be worth.\n",
    "\n",
    "1. Use get() on the dictionary of additional information to extract the **Future Value** and **Remaining Months** on the loan.\n",
    "    a. Save these values as variables called `future_value` and `remaining_months`.\n",
    "    b. Print each variable.\n",
    "\n",
    "    @NOTE:\n",
    "    **Future Value**: The amount of money the borrower has to pay back upon maturity of the loan (a.k.a. \"Face Value\")\n",
    "    **Remaining Months**: The remaining maturity (in months) before the loan needs to be fully repaid.\n",
    "\n",
    "2. Use the formula for Present Value to calculate a \"fair value\" of the loan. Use a minimum required return of 20% as the discount rate.\n",
    "3. Write a conditional statement (an if-else statement) to decide if the present value represents the loan's fair value.\n",
    "    a. If the present value of the loan is greater than or equal to the cost, then print a message that says the loan is worth at least the cost to buy it.\n",
    "    b. Else, the present value of the loan is less than the loan cost, then print a message that says that the loan is too expensive and not worth the price.\n",
    "\n",
    "    @NOTE:\n",
    "    If Present Value represents the loan's fair value (given the required minimum return of 20%), does it make sense to buy the loan at its current cost?\n",
    "\"\"\"\n",
    "\n",
    "# Given the following loan data, you will need to calculate the present value for the loan\n",
    "loan = {\n",
    "    \"loan_price\": 500,\n",
    "    \"remaining_months\": 9,\n",
    "    \"repayment_interval\": \"bullet\",\n",
    "    \"future_value\": 1000,\n",
    "}\n",
    "\n"
   ]
  },
  {
   "cell_type": "code",
   "execution_count": 6,
   "id": "9bcb6b1e-bb74-4380-92d1-bdb8f2c4f460",
   "metadata": {},
   "outputs": [
    {
     "name": "stdout",
     "output_type": "stream",
     "text": [
      "The future value of the loan is $1000.\n"
     ]
    }
   ],
   "source": [
    "# @TODO: Use get() on the dictionary of additional information to extract the Future Value and Remaining Months on the loan.\n",
    "# Print each variable.\n",
    "future_value = loan.get(\"future_value\")\n",
    "remaining_months = loan.get(\"remaining_months\")\n",
    "\n",
    "print(f\"The future value of the loan is ${future_value}.\")"
   ]
  },
  {
   "cell_type": "code",
   "execution_count": 7,
   "id": "55c55764-8608-46cc-a614-55a68e3c631f",
   "metadata": {},
   "outputs": [
    {
     "name": "stdout",
     "output_type": "stream",
     "text": [
      "The Present value of the loan is $861.77\n"
     ]
    }
   ],
   "source": [
    "# @TODO: Use the formula for Present Value to calculate a \"fair value\" of the loan.\n",
    "# Use a minimum required return of 20% as the discount rate.\n",
    "#   You'll want to use the **monthly** version of the present value formula.\n",
    "#   HINT: Present Value = Future Value / (1 + Discount_Rate/12) ** remaining_months\n",
    "discount_rate = .20 \n",
    "present_value =  future_value/(1+discount_rate/12) ** remaining_months\n",
    "print(f\"The Present value of the loan is ${present_value:.2f}\")"
   ]
  },
  {
   "cell_type": "code",
   "execution_count": 8,
   "id": "63854369-22ec-4318-beb6-d74539491c50",
   "metadata": {},
   "outputs": [
    {
     "name": "stdout",
     "output_type": "stream",
     "text": [
      "The loan is worth at least the cost to buy it.\n"
     ]
    }
   ],
   "source": [
    "# If Present Value represents what the loan is really worth, does it make sense to buy the loan at its cost?\n",
    "# @TODO: Write a conditional statement (an if-else statement) to decide if the present value represents the loan's fair value.\n",
    "#    If the present value of the\" loan is greater than or equal to the cost, then print a message that says the loan is worth at least the cost to buy it.\n",
    "#    Else, the present value of the loan is less than the loan cost, then print a message that says that the loan is too expensive and not worth the price.\n",
    "\n",
    "loan_price = loan.get(\"loan_price\")\n",
    "if present_value >= loan_price:\n",
    "    print(f\"The loan is worth at least the cost to buy it.\"),\n",
    "else:\n",
    "    print(f\"the loan is too expensive and not worth the price.\")"
   ]
  },
  {
   "cell_type": "code",
   "execution_count": 9,
   "id": "e5bfe474-e940-4b2e-98fd-58656038b064",
   "metadata": {},
   "outputs": [],
   "source": [
    "\"\"\"Part 3: Perform Financial Calculations.\n",
    "\n",
    "Perform financial calculations using functions.\n",
    "\n",
    "1. Define a new function that will be used to calculate present value.\n",
    "    a. This function should include parameters for `future_value`, `remaining_months`, and the `annual_discount_rate`\n",
    "    b. The function should return the `present_value` for the loan.\n",
    "2. Use the function to calculate the present value of the new loan given below.\n",
    "    a. Use an `annual_discount_rate` of 0.2 for this new loan calculation.\n",
    "\"\"\"\n",
    "\n",
    "# Given the following loan data, you will need to calculate the present value for the loan\n",
    "new_loan = {\n",
    "    \"loan_price\": 800,\n",
    "    \"remaining_months\": 12,\n",
    "    \"repayment_interval\": \"bullet\",\n",
    "    \"future_value\": 1000,\n",
    "}\n",
    "\n",
    "loan_price = new_loan.get(\"loan_price\")\n",
    "remaining_months = new_loan.get(\"remaining_months\")\n",
    "repayment_interval = new_loan.get(\"repayment_interval\")\n",
    "future_value = new_loan.get(\"future_value\")"
   ]
  },
  {
   "cell_type": "code",
   "execution_count": 10,
   "id": "4ad7a607-dbf6-4ae5-abfc-c6c995264103",
   "metadata": {},
   "outputs": [],
   "source": [
    "# @TODO: Define a new function that will be used to calculate present value.\n",
    "#    This function should include parameters for `future_value`, `remaining_months`, and the `annual_discount_rate`\n",
    "#    The function should return the `present_value` for the loan.\n",
    "#    Use an `annual_discount_rate` of 0.2 for this new loan calculation.\n",
    "\n",
    "annual_discount_rate = .20\n",
    "\n",
    "def calculate_present_value(future_value, remaining_months, annual_discount_rate):\n",
    "    present_value =  future_value/(1+discount_rate/12) ** remaining_months\n",
    "    return present_value   \n",
    "\n",
    "new_present_value = calculate_present_value(new_loan[\"future_value\"], new_loan[\"remaining_months\"], [\"annual_discount_rate\"])"
   ]
  },
  {
   "cell_type": "code",
   "execution_count": 11,
   "id": "495fa9b1-91ad-47e0-b80f-d24b3069676c",
   "metadata": {},
   "outputs": [
    {
     "name": "stdout",
     "output_type": "stream",
     "text": [
      "The present value of the new loan is $820.08.\n"
     ]
    }
   ],
   "source": [
    "# @TODO: Use the function to calculate the present value of the new loan given below.\n",
    "\n",
    "print(f\"The present value of the new loan is ${new_present_value:.2f}.\")    "
   ]
  },
  {
   "cell_type": "code",
   "execution_count": 26,
   "id": "a8f54329-3478-4eea-a589-04a4dd84df49",
   "metadata": {},
   "outputs": [],
   "source": [
    "\"\"\"Part 4: Conditionally filter lists of loans.\n",
    "\n",
    "In this section, you will use a loop to iterate through a series of loans and select only the inexpensive loans.\n",
    "\n",
    "1. Create a new, empty list called `inexpensive_loans`.\n",
    "2. Use a for loop to select each loan from a list of loans.\n",
    "    a. Inside the for loop, write an if-statement to determine if the loan_price is less than or equal to 500\n",
    "    b. If the loan_price is less than or equal to 500 then append that loan to the `inexpensive_loans` list.\n",
    "3. Print the list of inexpensive_loans.\n",
    "\"\"\"\n",
    "\n",
    "loans = [\n",
    "    {\n",
    "        \"loan_price\": 700,\n",
    "        \"remaining_months\": 9,\n",
    "        \"repayment_interval\": \"monthly\",\n",
    "        \"future_value\": 1000,\n",
    "    },\n",
    "    {\n",
    "        \"loan_price\": 500,\n",
    "        \"remaining_months\": 13,\n",
    "        \"repayment_interval\": \"bullet\",\n",
    "        \"future_value\": 1000,\n",
    "    },\n",
    "    {\n",
    "        \"loan_price\": 200,\n",
    "        \"remaining_months\": 16,\n",
    "        \"repayment_interval\": \"bullet\",\n",
    "        \"future_value\": 1000,\n",
    "    },\n",
    "    {\n",
    "        \"loan_price\": 900,\n",
    "        \"remaining_months\": 16,\n",
    "        \"repayment_interval\": \"bullet\",\n",
    "        \"future_value\": 1000,\n",
    "    },\n",
    "]\n",
    "\n",
    "# @TODO: Create an empty list called `inexpensive_loans`\n",
    "inexpensive_loans = []"
   ]
  },
  {
   "cell_type": "code",
   "execution_count": 29,
   "id": "8bc0e0bf-6644-4d35-b016-b93a52905a28",
   "metadata": {},
   "outputs": [],
   "source": [
    "# @TODO: Loop through all the loans and append any that cost $500 or less to the `inexpensive_loans` list\n",
    "\n",
    "for loan in loans:\n",
    "    if loan[\"loan_price\"] <= 500:\n",
    "        inexpensive_loans.append(loan)"
   ]
  },
  {
   "cell_type": "code",
   "execution_count": 32,
   "id": "4b019b05-83a1-4990-9e35-04d3ba473c1d",
   "metadata": {},
   "outputs": [
    {
     "name": "stdout",
     "output_type": "stream",
     "text": [
      "[{'loan_price': 500, 'remaining_months': 13, 'repayment_interval': 'bullet', 'future_value': 1000}, {'loan_price': 200, 'remaining_months': 16, 'repayment_interval': 'bullet', 'future_value': 1000}]\n"
     ]
    }
   ],
   "source": [
    "# @TODO: Print the `inexpensive_loans` list\n",
    "print(inexpensive_loans)"
   ]
  },
  {
   "cell_type": "code",
   "execution_count": 33,
   "id": "e9f3b8f2-ccd0-4f45-8be1-fd35565499b2",
   "metadata": {},
   "outputs": [],
   "source": [
    "\"\"\"Part 5: Save the results.\n",
    "\n",
    "Output this list of inexpensive loans to a csv file\n",
    "    1. Use `with open` to open a new CSV file.\n",
    "        a. Create a `csvwriter` using the `csv` library.\n",
    "        b. Use the new csvwriter to write the header variable as the first row.\n",
    "        c. Use a for loop to iterate through each loan in `inexpensive_loans`.\n",
    "            i. Use the csvwriter to write the `loan.values()` to a row in the CSV file.\n",
    "\n",
    "    Hint: Refer to the official documentation for the csv library.\n",
    "    https://docs.python.org/3/library/csv.html#writer-objects\n",
    "\n",
    "\"\"\"\n",
    "\n",
    "# Set the output header\n",
    "header = [\"loan_price\", \"remaining_months\", \"repayment_interval\", \"future_value\"]\n",
    "\n",
    "# Set the output file path\n",
    "output_path = Path(\"inexpensive_loans.csv\")\n",
    "\n",
    "# @TODO: Use the csv library and `csv.writer` to write the header row\n",
    "# and each row of `loan.values()` from the `inexpensive_loans` list.\n",
    "with open(output_path, \"w\") as csvfile:\n",
    "    # Create a csvwriter\n",
    "    csvwriter = csv.writer(csvfile, delimiter=\",\")\n",
    "    # Write the header to the output file\n",
    "    csvwriter.writerow(header)\n",
    "    # Loop through loan in the list of `inexpensive_loans`\n",
    "    # and write the loan values to the csv\n",
    "    for loan in inexpensive_loans:\n",
    "        # Write the list of metrics to the output file\n",
    "        csvwriter.writerow(loan.values())"
   ]
  }
 ],
 "metadata": {
  "kernelspec": {
   "display_name": "Python 3 (ipykernel)",
   "language": "python",
   "name": "python3"
  },
  "language_info": {
   "codemirror_mode": {
    "name": "ipython",
    "version": 3
   },
   "file_extension": ".py",
   "mimetype": "text/x-python",
   "name": "python",
   "nbconvert_exporter": "python",
   "pygments_lexer": "ipython3",
   "version": "3.7.11"
  }
 },
 "nbformat": 4,
 "nbformat_minor": 5
}
